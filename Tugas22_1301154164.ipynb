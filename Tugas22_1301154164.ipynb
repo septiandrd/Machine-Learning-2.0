{
 "cells": [
  {
   "cell_type": "markdown",
   "metadata": {},
   "source": [
    "# Tugas 2.2 - Agglomerative Hierarchical Clustering  (Kelas ADF)\n",
    "\n",
    "## Deadline pengumpulan 13 April 2018 pukul 21:00,\n",
    "## Kumpulkan melalui IDEA\n",
    "\n",
    "<br><br>"
   ]
  },
  {
   "cell_type": "markdown",
   "metadata": {},
   "source": [
    "### Identitas Diri\n",
    "Kerjakan dan jawablah soal-soal berikut dengan jelas dan terstruktur\n",
    "1. Ubahlah filename Jupyter Notebook ini dengan NIM masing-masing, dengan format `Tugas22_[NIM].ipynb`<br>\n",
    "   contoh: `Tugas22_130115xxxx.ipynb`\n",
    "2. Isilah identitas diri pada *cell* di bawah\n",
    "3. Jalankan *cell* di bawah dengan menekan tombol **Run** di toolbar, atau menekan tombol `Shift+Enter`"
   ]
  },
  {
   "cell_type": "code",
   "execution_count": 1,
   "metadata": {
    "collapsed": true
   },
   "outputs": [],
   "source": [
    "# isikan nim, nama, dan kelas\n",
    "nama = \"Septian Dwi Indradi\"\n",
    "nim = 1301154192\n",
    "kelas = \"IF-39-10\"\n"
   ]
  },
  {
   "cell_type": "markdown",
   "metadata": {},
   "source": [
    "### Persiapan Data\n",
    "Jalankan *blok cell* di bawah untuk membangkitkan data. Perhatikan data yang diberikan"
   ]
  },
  {
   "cell_type": "code",
   "execution_count": 2,
   "metadata": {},
   "outputs": [
    {
     "name": "stdout",
     "output_type": "stream",
     "text": [
      "data = \n",
      "  x  y\n",
      "------\n",
      "[[2 7]\n",
      " [8 3]\n",
      " [0 1]\n",
      " [8 5]\n",
      " [5 8]\n",
      " [0 3]\n",
      " [6 6]\n",
      " [7 3]]\n"
     ]
    }
   ],
   "source": [
    "import numpy as np\n",
    "from scipy.cluster.hierarchy import dendrogram, linkage\n",
    "from matplotlib import pyplot as plt\n",
    "\n",
    "np.random.seed(nim)\n",
    "data = np.random.randint(10,size=(8,2))\n",
    "\n",
    "print(\"data = \\n  x  y\\n------\")\n",
    "print(data)"
   ]
  },
  {
   "cell_type": "markdown",
   "metadata": {},
   "source": [
    "Dari 8 data yang diberikan, jalankan *block cell* di bawah untuk mendapatkan matrix jaraknya."
   ]
  },
  {
   "cell_type": "code",
   "execution_count": 3,
   "metadata": {},
   "outputs": [
    {
     "data": {
      "image/png": "[encoded data removed]",
      "text/plain": [
       "<matplotlib.figure.Figure at 0x1082d25f8>"
      ]
     },
     "metadata": {},
     "output_type": "display_data"
    },
    {
     "name": "stdout",
     "output_type": "stream",
     "text": [
      "matrix jarak =\n",
      "[[ 0.    7.21  6.32  6.32  3.16  4.47  4.12  6.4 ]\n",
      " [ 7.21  0.    8.25  2.    5.83  8.    3.61  1.  ]\n",
      " [ 6.32  8.25  0.    8.94  8.6   2.    7.81  7.28]\n",
      " [ 6.32  2.    8.94  0.    4.24  8.25  2.24  2.24]\n",
      " [ 3.16  5.83  8.6   4.24  0.    7.07  2.24  5.39]\n",
      " [ 4.47  8.    2.    8.25  7.07  0.    6.71  7.  ]\n",
      " [ 4.12  3.61  7.81  2.24  2.24  6.71  0.    3.16]\n",
      " [ 6.4   1.    7.28  2.24  5.39  7.    3.16  0.  ]]\n"
     ]
    }
   ],
   "source": [
    "dx = data[:,0][..., np.newaxis] - data[:,0][np.newaxis, ...]\n",
    "dy = data[:,1][..., np.newaxis] - data[:,1][np.newaxis, ...]\n",
    "dt = np.array([dx,dy])\n",
    "jarak = np.linalg.norm(dt,axis=0)\n",
    "\n",
    "plt.scatter(data[:,0],data[:,1],)\n",
    "for i, txt in enumerate([i for i in range(len(data))]):\n",
    "    plt.annotate(txt, (data[i,0],data[i,1]))\n",
    "plt.show()\n",
    "\n",
    "print(\"matrix jarak =\")\n",
    "print(np.around(jarak,2))"
   ]
  },
  {
   "cell_type": "code",
   "execution_count": 4,
   "metadata": {},
   "outputs": [
    {
     "data": {
      "image/png": "[encoded data removed]",
      "text/plain": [
       "<matplotlib.figure.Figure at 0x1082d22e8>"
      ]
     },
     "metadata": {},
     "output_type": "display_data"
    }
   ],
   "source": [
    "fig = plt.figure(figsize=(15, 10))\n",
    "\n",
    "ax1 = fig.add_subplot(221)\n",
    "z = linkage(data,method='single',metric='euclidean')\n",
    "dn = dendrogram(z)\n",
    "ax1.set_title(\"Single-link\")\n",
    "\n",
    "ax2 = fig.add_subplot(222)\n",
    "z = linkage(data,method='complete',metric='euclidean')\n",
    "dn = dendrogram(z)\n",
    "ax2.set_title(\"Complete-link\")\n",
    "\n",
    "ax3 = fig.add_subplot(223)\n",
    "z = linkage(data,method='average',metric='euclidean')\n",
    "dn = dendrogram(z)\n",
    "ax3.set_title(\"Group average\")\n",
    "\n",
    "ax4 = fig.add_subplot(224)\n",
    "z = linkage(data,method='centroid',metric='euclidean')\n",
    "dn = dendrogram(z)\n",
    "ax4.set_title(\"Centroid-based\")\n",
    "\n",
    "fig.tight_layout()\n",
    "fig.subplots_adjust(top=0.9)\n",
    "\n",
    "plt.show()"
   ]
  },
  {
   "cell_type": "markdown",
   "metadata": {},
   "source": [
    "### Exercise 1\n",
    "Berdasarkan data dan matrix jarak yang diberikan, lakukan proses ***Agglomerative Hierarchical Clustering*** <br>\n",
    "sehingga akan terbentuk sebanyak **7 *cluster*** secara berurutan (*cluster* A, B, C, D, E, F, G )\n",
    "\n",
    "Tuliskan anggota-anggota masing-masing *cluster* jika ***Proximity Measure*** yang digunakan adalah:\n",
    "        * Single-link\n",
    "        * Complete-link\n",
    "        * Group Average\n",
    "        * Centroid-based\n",
    "\n",
    "Tuliskan nomor titik anggota untuk masing-masing *cluster*. {nomor titik = 0-7}<br>\n",
    "    \n",
    "---\n",
    "\n",
    "Contoh Kasus:\n",
    "* terdapat 4 titik sbb: <br>\n",
    "`titik = [[3,1], [1,1], [4,3], [1,2]]` <br>\n",
    "* maka jika dilakukan AHC dengan *Proximity Measure Single Link*, akan terdapat 3 *cluster* sbb:<br>\n",
    "`single_link = [[1,3], [0,2], [0,1,2,3]]` <br>\n",
    "\n",
    "* yang artinya:\n",
    "    * cluster A berisi titik 1 dan 3\n",
    "    * cluster B berisi titik 0 dan 2,\n",
    "    * cluster C berisi titik 0, 1, 2, dan 3 *(cluster A dan B)*"
   ]
  },
  {
   "cell_type": "code",
   "execution_count": 5,
   "metadata": {},
   "outputs": [],
   "source": [
    "### TODO : Isikan anggota setiap cluster ###\n",
    "\n",
    "# Single-link\n",
    "single_link = [\n",
    "    [4,7],                  # cluster A \n",
    "    [4,6,7],                # cluster B\n",
    "    [3,5],                  # cluster C\n",
    "    [1,3,5],                # cluster D\n",
    "    [1,3,4,5,6,7],          # cluster E\n",
    "    [1,2,3,4,5,6,7],        # cluster F\n",
    "    [0,1,2,3,4,5,6,7],      # cluster G\n",
    "]\n",
    "\n",
    "# Complete-link\n",
    "complete_link = [\n",
    "    [4,7],                  # cluster A \n",
    "    [3,5],                  # cluster B\n",
    "    [1,6],                  # cluster C\n",
    "    [1,4,6,7],              # cluster D\n",
    "    [0,2],                  # cluster E\n",
    "    [1,3,4,5,6,7],          # cluster F\n",
    "    [0,1,2,3,4,5,6,7],      # cluster G\n",
    "]\n",
    "\n",
    "# Group Average\n",
    "group_average = [\n",
    "    [4,7],                  # cluster A \n",
    "    [3,5],                  # cluster B\n",
    "    [4,6,7],                # cluster C\n",
    "    [1,4,6,7],              # cluster D\n",
    "    [1,2,4,6,7],            # cluster E\n",
    "    [1,2,3,4,5,6,7],        # cluster F\n",
    "    [0,1,2,3,4,5,6,7],      # cluster G\n",
    "]\n",
    "\n",
    "# Centroid-based\n",
    "centroid_based = [\n",
    "    [4,7],                  # cluster A \n",
    "    [3,5],                  # cluster B\n",
    "    [4,6,7],                # cluster C\n",
    "    [1,4,6,7],              # cluster D\n",
    "    [1,2,4,6,7],            # cluster E\n",
    "    [1,2,3,4,5,6,7],        # cluster F\n",
    "    [0,1,2,3,4,5,6,7],      # cluster G\n",
    "]"
   ]
  },
  {
   "cell_type": "markdown",
   "metadata": {},
   "source": [
    "#### Pertanyaan 1\n",
    "Apakah pengaruh pemilihan *proximity measure*?<br>\n",
    "Apakah tedapat *proximity measure* yang lebih baik atau lebih buruk dari pengukuran yang lain?<br>\n",
    "Jelaskan jawaban Anda!"
   ]
  },
  {
   "cell_type": "markdown",
   "metadata": {},
   "source": [
    "#### Jawaban Pertanyaan 1\n",
    "\n",
    "Jawab: pemilihan proximity measure berpengaruh terhadap hasil cluster data, karena setiap proximity measure memiliki cara perhitungan yang berbeda. Masing-masing proximity measure memiliki karakteristik yang berbeda dan performansinya bergantung pada persebaran datanya. \n",
    "\n",
    "Single-link clustering cocok digunakan pada data yang membentuk suatu pola (membentuk garis, lingkaran) / tidak tersebar. Sedangkan complete-link, group average dan centroid-based cocok digunakan untuk data yang tersebar."
   ]
  },
  {
   "cell_type": "markdown",
   "metadata": {},
   "source": [
    "#### Pertanyaan 2\n",
    "Mengapa penggunaan HAC dengan *Centroid-based proximity measure* tidak menjamin yg dekat jadi satu klaster?<br>\n",
    "Jelaskan jawaban Anda!"
   ]
  },
  {
   "cell_type": "markdown",
   "metadata": {},
   "source": [
    "#### Jawaban Pertanyaan 2\n",
    "\n",
    "Jawab: Karena dipengaruhi oleh jumlah centroid dan letak centroid belum tentu berada ditengah data-data yang berdekatan. Jika terdapat data yang berdekatan namun berada diantara 2 centroid, maka ada kemungkinan data tersebut akan terpisah."
   ]
  },
  {
   "cell_type": "markdown",
   "metadata": {},
   "source": [
    "#### Pertanyaan 3\n",
    "Mengapa penggunaan HAC dikatakan tidak terlalu baik untuk data yang terlalu besar?<br>\n",
    "Jelaskan jawaban Anda!"
   ]
  },
  {
   "cell_type": "markdown",
   "metadata": {},
   "source": [
    "#### Jawaban Pertanyaan 3\n",
    "\n",
    "Jawab: Karena HAC harus menghitung jarak antar data dan diiterasi sebanyak jumlah data maka jika terlalu besar, cost untuk perhitungannya juga akan sangat besar dan akan memakan waktu lama."
   ]
  }
 ],
 "metadata": {
  "kernelspec": {
   "display_name": "Python 3",
   "language": "python",
   "name": "python3"
  },
  "language_info": {
   "codemirror_mode": {
    "name": "ipython",
    "version": 3
   },
   "file_extension": ".py",
   "mimetype": "text/x-python",
   "name": "python",
   "nbconvert_exporter": "python",
   "pygments_lexer": "ipython3",
   "version": "3.6.3"
  }
 },
 "nbformat": 4,
 "nbformat_minor": 2
}
