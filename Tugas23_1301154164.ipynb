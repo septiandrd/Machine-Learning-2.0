{
 "cells": [
  {
   "cell_type": "markdown",
   "metadata": {},
   "source": [
    "# Tugas 2.3 - Self-Organizing Maps (Kelas ADF)\n",
    "\n",
    "## Deadline pengumpulan 13 April 2018 pukul 21:00,\n",
    "## Kumpulkan melalui IDEA\n",
    "\n",
    "<br><br>"
   ]
  },
  {
   "cell_type": "markdown",
   "metadata": {},
   "source": [
    "### Identitas Diri\n",
    "Kerjakan dan jawablah soal-soal berikut dengan jelas dan terstruktur\n",
    "1. Ubahlah filename Jupyter Notebook ini dengan NIM masing-masing, dengan format `Tugas23_[NIM].ipynb`<br>\n",
    "   contoh: `Tugas23_130115xxxx.ipynb`\n",
    "2. Isilah identitas diri pada *cell* di bawah\n",
    "3. Jalankan *cell* di bawah dengan menekan tombol **Run** di toolbar, atau menekan tombol `Shift+Enter`"
   ]
  },
  {
   "cell_type": "code",
   "execution_count": 1,
   "metadata": {
    "collapsed": true
   },
   "outputs": [],
   "source": [
    "# isikan nim, nama, dan kelas\n",
    "nama = \"Septian Dwi Indradi\"\n",
    "nim = 1301154164\n",
    "kelas = \"IF-39-10\"\n"
   ]
  },
  {
   "cell_type": "markdown",
   "metadata": {},
   "source": [
    "### Persiapan Data\n",
    "Jalankan *blok cell* di bawah untuk membangkitkan data. Perhatikan data yang diberikan"
   ]
  },
  {
   "cell_type": "code",
   "execution_count": 2,
   "metadata": {},
   "outputs": [
    {
     "name": "stdout",
     "output_type": "stream",
     "text": [
      "data = \n",
      "  x  y\n",
      "------\n",
      "[[ 3.  8.]\n",
      " [ 2.  7.]\n",
      " [ 2.  1.]\n",
      " [ 4.  2.]\n",
      " [ 6.  8.]\n",
      " [ 7.  1.]]\n"
     ]
    }
   ],
   "source": [
    "import numpy as np\n",
    "\n",
    "np.random.seed(int(nim/3))\n",
    "data = np.random.randint(10,size=(6,2)).astype(float)\n",
    "\n",
    "print(\"data = \\n  x  y\\n------\")\n",
    "print(data)"
   ]
  },
  {
   "cell_type": "markdown",
   "metadata": {},
   "source": [
    "Akan dibuat sebuah jaringan *Self-Organizing Maps* dengan input 6 data dan output 2 neuron (1 dimensi). <br>\n",
    "Pada awal iterasi, bobot neuron akan diinisialisasi secara acak (*random generated*)"
   ]
  },
  {
   "cell_type": "code",
   "execution_count": 3,
   "metadata": {},
   "outputs": [
    {
     "name": "stdout",
     "output_type": "stream",
     "text": [
      "neuron = \n",
      "  x  y\n",
      "------\n",
      "[[ 0.  1.]\n",
      " [ 7.  3.]]\n"
     ]
    }
   ],
   "source": [
    "np.random.seed(int(nim/5))\n",
    "neuron = np.random.randint(10,size=(2,2)).astype(float)\n",
    "\n",
    "print(\"neuron = \\n  x  y\\n------\")\n",
    "print(neuron)"
   ]
  },
  {
   "cell_type": "markdown",
   "metadata": {},
   "source": [
    "Jalankan *blok cell* di bawah untuk melihat visualisasi data"
   ]
  },
  {
   "cell_type": "code",
   "execution_count": 4,
   "metadata": {},
   "outputs": [
    {
     "data": {
      "image/png": "[encoded data removed]",
      "text/plain": [
       "<matplotlib.figure.Figure at 0x10f178f28>"
      ]
     },
     "metadata": {},
     "output_type": "display_data"
    }
   ],
   "source": [
    "import matplotlib.pyplot as plt\n",
    "%matplotlib inline \n",
    "from cvxopt import matrix, solvers\n",
    "import pprint as pp\n",
    "\n",
    "COLORS = ['red', 'blue']\n",
    "        \n",
    "fig, ax = plt.subplots(figsize=(5,5))\n",
    "ax.set_xticks(np.arange(0,10,1))\n",
    "ax.set_yticks(np.arange(0,10,1))\n",
    "ax.set_xlim([-0.5, 9.5])\n",
    "ax.set_ylim([-0.5, 9.5])\n",
    "ax.scatter(data[:,0],data[:,1],c=COLORS[0],label='Data')\n",
    "ax.scatter(neuron[:,0],neuron[:,1],c=COLORS[1],label='Neuron')\n",
    "ax.grid(b=True, which='both', color='k', linestyle='-',linewidth=.1)\n",
    "plt.legend()\n",
    "plt.show()\n"
   ]
  },
  {
   "cell_type": "markdown",
   "metadata": {},
   "source": [
    "### Exercise 1\n",
    "Lakukan **ENAM** iterasi (*step*) algoritma ***Self-Organizing Maps*** terhadap 6 data yang diberikan <br><br>\n",
    "\n",
    "\n",
    "**Algoritma *Self-Organizing Maps***:\n",
    "0. inisialisasi $n=1$, Ulangi selama bobot belum konvergen:\n",
    "1. Ambil sebuah titik untuk *step* ke-$s$ dari array data, \n",
    "2. Tentukan neuron \"pemenang\" $i(x)$ untuk data pada *step* ke-$s$ tersebut berdasarkan fungsi *Euclidean distance*\n",
    "3. Update bobot setiap neuron berdasarkan perhitungan rumus berikut<br> \n",
    "    $w_j(s+1)= w_j(s)+\\eta(s) \\bullet \\varphi (j, i(x), s) \\bullet (x(s)-w_j(s)) $<br>\n",
    "    (gunakan fungsi yang disediakan untuk mendapatkan nilai *neighborhood*)<br>\n",
    "4. Update learning rate. Gunakan penurunan learning rate $decay=0.9$\n",
    "    \n",
    "    di mana:\n",
    "    * $s$        &nbsp;&nbsp;&nbsp;&nbsp;: adalah *time step* ke-$s$  \n",
    "    * $l$        &nbsp;&nbsp;&nbsp;&nbsp;&nbsp;: adalah jumlah neuron  \n",
    "    * $w_j$      &nbsp;&nbsp;: adalah vektor bobot neuron ke-j yang sedang diupdate, $j=1..l$\n",
    "    * $\\eta_0$   &nbsp;&nbsp;: adalah nilai *learning rate* awal $= 0.5$\n",
    "    * \n",
    "    * $x(s)$ : adalah data ke-$s$ yang sedang diproses pada iterasi\n",
    "    * $i(x)$ &nbsp;: adalah nomor neuron terbaik terhadap data *step* ke-$s$ yang sedang diproses\n",
    "    * $w_j(s)$  &nbsp;: adalah vektor bobot neuron ke-$j$ pada *step* ke-$s$\n",
    "    * $\\eta(s)$ &nbsp;&nbsp;&nbsp;&nbsp;: adalah *learning rate*  pada *step* ke-$s$\n",
    "    * $\\varphi (j, i(x), s)$: adalah fungsi *neighborhood* untuk neuron ke-$j$ pada *step* ke-$s$\n",
    "\n",
    "Tuliskan jawaban pada list `jawaban` yang diberikan dengan format: <br>\n",
    "* dimensi pertama pada list `jawaban` merupakan step (sebanyak 6 step)\n",
    "* isi dari `jawaban[i]` adalah list berukuran 3 yang menyatakan <br>\n",
    "    * nomor neuron pemenang terhadap titik ke-`i`\n",
    "    * x dan y baru untuk neuron pertama setelah update(`neuron 0`)\n",
    "    * x dan y baru untuk neuron kedua setelah update(`neuron 1`)\n",
    "    \n",
    "---"
   ]
  },
  {
   "cell_type": "code",
   "execution_count": 5,
   "metadata": {},
   "outputs": [
    {
     "name": "stdout",
     "output_type": "stream",
     "text": [
      "[[0],[1.5000,4.5000],[5.9212,4.3485]]\n",
      "[[1],[1.6050,5.0250],[4.1567,5.5417]]\n",
      "[[1],[1.6674,4.3888],[3.2832,3.7023]]\n",
      "[[0],[2.5177,3.5181],[3.3650,3.5081]]\n",
      "[[0],[3.6600,4.9884],[3.5710,3.8593]]\n",
      "[[0],[4.6461,3.8108],[3.7434,3.7156]]\n"
     ]
    },
    {
     "data": {
      "image/png": "[encoded data removed]",
      "text/plain": [
       "<matplotlib.figure.Figure at 0x111606dd8>"
      ]
     },
     "metadata": {},
     "output_type": "display_data"
    }
   ],
   "source": [
    "## Fungsi Educlidean Distance ##\n",
    "def euclidean(x, n):\n",
    "    \"\"\"\n",
    "    x : vektor data\n",
    "    n : vektor neuron\n",
    "    \"\"\"\n",
    "    return np.sqrt(np.sum((x - n) ** 2))\n",
    "\n",
    "\n",
    "## Fungsi Gaussian untuk Neighborhood ##\n",
    "import math\n",
    "def get_neighborhood(j, ix, s):\n",
    "    \"\"\"\n",
    "    j  : indeks neuron yang akan diupdate\n",
    "    ix : indeks neuron terbaik\n",
    "    s  : step\n",
    "    \"\"\"    \n",
    "    sigma =.9*(.9**s)\n",
    "    p = sigma**2\n",
    "    d = abs(j-ix)**2\n",
    "    if p == 0:\n",
    "        return 0\n",
    "    return math.exp(-d**2/(2*p))\n",
    "\n",
    "n = 1\n",
    "lr = 0.5\n",
    "lrdecay = 0.9\n",
    "for n in range(6) :\n",
    "    distances = []\n",
    "    distances.append(euclidean(neuron[0],data[n]))\n",
    "    distances.append(euclidean(neuron[1],data[n]))\n",
    "    ix = distances.index(max(distances))\n",
    "    \n",
    "    neuron[0] = neuron[0] + lr * get_neighborhood(0, ix, n) * (data[n]-neuron[0])\n",
    "    neuron[1] = neuron[1] + lr * get_neighborhood(1, ix, n) * (data[n]-neuron[1])\n",
    "    \n",
    "    print(\"[[%i],[%.4f,%.4f],[%.4f,%.4f]]\"%(ix,neuron[0][0],neuron[0][1],neuron[1][0],neuron[1][1]))\n",
    "    \n",
    "    lr *= lrdecay\n",
    "    \n",
    "fig, ax = plt.subplots(figsize=(5,5))\n",
    "ax.set_title(\"Iterasi ke-6\")\n",
    "ax.set_xticks(np.arange(0,10,1))\n",
    "ax.set_yticks(np.arange(0,10,1))\n",
    "ax.set_xlim([-0.5, 9.5])\n",
    "ax.set_ylim([-0.5, 9.5])\n",
    "ax.scatter(data[:,0],data[:,1],c=COLORS[0],label='Data')\n",
    "ax.scatter(neuron[:,0],neuron[:,1],c=COLORS[1],label='Neuron')\n",
    "ax.grid(b=True, which='both', color='k', linestyle='-',linewidth=.1)\n",
    "plt.legend()\n",
    "plt.show()"
   ]
  },
  {
   "cell_type": "markdown",
   "metadata": {},
   "source": [
    "Contoh Kasus:\n",
    "* terdapat 3 titik sbb: <br>\n",
    "  `titik = [[1. 3.], [8. 1.], [7. 4.]]` <br>\n",
    "* terdapat 2 neuron dengan bobot sbb: <br>\n",
    "  `titik = [[3. 2.], [6. 2.]]` <br>\n",
    "  <img src=\"images\\01.png\">\n",
    "\n",
    "\n",
    "#### Pembelajaran SOM, iterasi 1:\n",
    "* pada saat iterasi (*step*) pertama ($s=1$) terhadap data pertama `x = [1. 3.]`, <br>\n",
    "    akan didapatkan neuron pemenang adalah neuron kedua (`neuron 0 = [3. 2.]`)<br>\n",
    "    dikarenakan jarak (*euclidean distance*)`x` ke `neuron 0` yang lebih dekat (`distances= 2.23`). <br>\n",
    "    Sehingga didapatkan $i(1)=0$\n",
    "* pada saat update bobot, didapatkan \n",
    "    * `neuron 0` diperbarui menjadi <br>`= [3. 2.] + lr * get_neighborhood(0, 0, 1) * ([1. 3.]-[3. 2.])`<br>\n",
    "         `= [3. 2.] + 0.5 * 1.0 * [-2.  1.] `<br>`= [3. 2.] + [-1.   0.5] `<br>`= [2.  2.5]`\n",
    "    * `neuron 1` diperbarui menjadi <br>`= [6. 2.] + lr * get_neighborhood(1, 0, 1) * ([1. 3.]-[6. 2.])`<br>\n",
    "         `= [6. 2.] + 0.5 * 0.46 * [-5.  1.] `<br>`= [6. 2.] + [-1.17  0.23] `<br>`= [4.83 2.23]`\n",
    "  <img src=\"images\\02.png\">\n",
    "* perbarui learning rate dengan `lr = lr * 0.9`\n",
    "  \n",
    "---\n",
    "\n",
    "#### Pembelajaran SOM, iterasi 2:\n",
    "\n",
    "* pada saat iterasi (*step*) kedua ($s=2$) terhadap data kedua `x = [8. 1.]`, <br>\n",
    "    akan didapatkan neuron pemenang adalah neuron kedua (`neuron 1 = [4.83 2.23]`)<br>\n",
    "    dikarenakan jarak (*euclidean distance*)`x` ke `neuron 1` yang lebih dekat (`distances= 3.39`). <br>\n",
    "    Sehingga didapatkan $i(1)=1$\n",
    "* pada saat update bobot, didapatkan \n",
    "    * `neuron 0` diperbarui menjadi <br>`= [2.  2.5] + lr * get_neighborhood(0, 1, 2) * ([8. 1.]-[2.  2.5])`<br>\n",
    "         `= [2.  2.5] + 0.45 * 0.39 * [6.  -1.5] `<br>`= [2.  2.5] + [ 1.05 -0.26] `<br>`= [3.05 2.24]`\n",
    "    * `neuron 1` diperbarui menjadi <br>`= [4.83 2.23] + lr * get_neighborhood(1, 1, 2) * ([8. 1.]-[4.83 2.23])`<br>\n",
    "         `= [4.83 2.23] + 0.45 * 1.0  * [3.17 -1.23] `<br>`= [4.83 2.23] + [1.43 -0.56] `<br>`= [6.26 1.68]`\n",
    "  <img src=\"images\\03.png\">\n",
    "\n",
    "Sehingga, isi dari list `jawaban` adalah: <br>\n",
    "`jawaban = [\n",
    "    [[0], [2.   , 2.5 ],[4.83 , 2.23]],        # koordinat neuron pada step 1\n",
    "    [[1], [3.05 , 2.24],[6.26 , 1.68]],        # koordinat neuron pada step 2\n",
    "    [[?], [?    ,    ?],[?    ,    ?]],        # koordinat neuron pada step 3\n",
    "]`"
   ]
  },
  {
   "cell_type": "code",
   "execution_count": 6,
   "metadata": {
    "collapsed": true
   },
   "outputs": [],
   "source": [
    "### TODO : Isikan neuron pemenang dan koordinat neuron setiap step ###\n",
    "jawaban = [\n",
    "    [[0],[1.5000,4.5000],[5.9212,4.3485]],    # koordinat neuron pada step 1\n",
    "    [[1],[1.6050,5.0250],[4.1567,5.5417]],    # koordinat neuron pada step 2\n",
    "    [[1],[1.6674,4.3888],[3.2832,3.7023]],    # koordinat neuron pada step 3\n",
    "    [[0],[2.5177,3.5181],[3.3650,3.5081]],    # koordinat neuron pada step 4\n",
    "    [[0],[3.6600,4.9884],[3.5710,3.8593]],    # koordinat neuron pada step 5\n",
    "    [[0],[4.6461,3.8108],[3.7434,3.7156]],    # koordinat neuron pada step 6\n",
    "]"
   ]
  },
  {
   "cell_type": "markdown",
   "metadata": {},
   "source": [
    "#### Pertanyaan 1\n",
    "Ada berapa layerkah di dalam Jaringan Syaraf Kohonen? <br>\n",
    "Apakah tugas/proses yang dilakukan oleh setiap layer tersebut?<br>\n",
    "Jelaskan jawaban Anda!"
   ]
  },
  {
   "cell_type": "markdown",
   "metadata": {},
   "source": [
    "#### Jawaban Pertanyaan 1\n",
    "\n",
    "Jawab: 2 layer, layer pertama yaitu input layer menerima input berupa data point (pada kasus ini x dan y), layer kedua adalah output layer berupa 1D atau 2D vector yang akan ditraining untuk melakukan mapping terhadap data."
   ]
  },
  {
   "cell_type": "markdown",
   "metadata": {},
   "source": [
    "#### Pertanyaan 2\n",
    "Jaringan *Self Organizing Map* dikatakan dapat melakukan reduksi terhadap dimensi data.<br>\n",
    "Jelaskan apakah yang dimaksud dengan pernyataan tersebut.<br>\n",
    "Bagaimanakah SOM dapat digunakan untuk mengkompresi data?<br>\n",
    "Berikan contoh penggunaan kemampuan SOM tersebut terhadap kasus nyata!<br>\n",
    "Jelaskan jawaban Anda!"
   ]
  },
  {
   "cell_type": "markdown",
   "metadata": {},
   "source": [
    "#### Jawaban Pertanyaan 2\n",
    "\n",
    "Jawab: Output layer dari SOM adalah suatu grid berbentuk 1D atau 2D. Grid tersebut menjadi non-linear pada data yang berdimensi besar, dan akan melakukan mapping terhadap data tersebut. Maka SOM dikatakan dapat mereduksi dimensi karena dapat melakukan mapping data berdimensi-m ke dalam 2D SOM grid.\n",
    "\n",
    "Contoh penggunaan SOM adalah untuk mengkompresi citra. SOM dapat menghasilkan feature map yang kemudian digunakan untuk membuat skema kompresi dan menghasilkan compression rate yang baik tanpa menurunkan kualitas gambar [https://pdfs.semanticscholar.org/fad8/e446234ac01654ef51576758bae9ffe6d2c4.pdf]"
   ]
  },
  {
   "cell_type": "markdown",
   "metadata": {},
   "source": [
    "#### Pertanyaan 3\n",
    "Data yang digunakan dalam *Unsupervised Learning* tidak memiliki nilai target output.<br>\n",
    "Jadi, apakah yang sebenarnya dilakukan / dipelajari di dalam proses *Unsupervised Learning*?<br>\n",
    "Jelaskan jawaban Anda!"
   ]
  },
  {
   "cell_type": "markdown",
   "metadata": {},
   "source": [
    "#### Jawaban Pertanyaan 3\n",
    "\n",
    "Jawab: Pada unsupervised learning, suatu model ditraining untuk menemukan struktur dari data yang diberikan dengan menganalisis fitur-fitur yang terdapat pada data tersebut. Model kemudian akan belajar membuat mapping dari suatu input terhadap output berdasarkan struktur data yang didapatkan."
   ]
  }
 ],
 "metadata": {
  "kernelspec": {
   "display_name": "Python 3",
   "language": "python",
   "name": "python3"
  },
  "language_info": {
   "codemirror_mode": {
    "name": "ipython",
    "version": 3
   },
   "file_extension": ".py",
   "mimetype": "text/x-python",
   "name": "python",
   "nbconvert_exporter": "python",
   "pygments_lexer": "ipython3",
   "version": "3.6.3"
  }
 },
 "nbformat": 4,
 "nbformat_minor": 2
}
